{
 "cells": [
  {
   "cell_type": "code",
   "execution_count": 1,
   "metadata": {},
   "outputs": [
    {
     "name": "stdout",
     "output_type": "stream",
     "text": [
      "Current working directory: /Users/zhounan/Documents/Github_Project/BioForce\n"
     ]
    }
   ],
   "source": [
    "# system setting\n",
    "import os\n",
    "import sys\n",
    "file_path = globals()['_dh'][0]\n",
    "root_dir = os.path.abspath(os.path.join(file_path, '..'))\n",
    "sys.path.append(root_dir)\n",
    "sys.dont_write_bytecode = True\n",
    "os.chdir(root_dir)\n",
    "\n",
    "\n",
    "print(f\"Current working directory: {root_dir}\")\n",
    "\n",
    "import pandas as pd\n",
    "from tqdm import tqdm   \n",
    "import numpy as np\n",
    "import seaborn as sns\n",
    "# roc curve\n",
    "from sklearn.metrics import roc_curve, roc_auc_score\n",
    "# import warnings\n",
    "import warnings\n",
    "import time "
   ]
  },
  {
   "cell_type": "code",
   "execution_count": 3,
   "metadata": {},
   "outputs": [],
   "source": [
    "# Academic/A01_RIF/result/exp_log_V4.json\n",
    "# load \n",
    "import json\n",
    "with open('Academic/A01_RIF/result/exp_log_V4.json', 'r') as f:\n",
    "    exp_log = json.load(f)"
   ]
  },
  {
   "cell_type": "code",
   "execution_count": 2,
   "metadata": {},
   "outputs": [],
   "source": [
    "# target path \n",
    "target_path = 'BigData'\n",
    "\n",
    "bigdata_info_json = {}\n",
    "\n",
    "# A01_RIF \n",
    "## RIF_V1\n",
    "bigdata_info_json['RIF_V1'] = {}\n",
    "bigdata_info_json['RIF_V1']['link'] = 'https://drive.google.com/file/d/1hsv7FKU1GvkfCeKG1BINwOIQOg0FZkYX/view?usp=drive_link'\n",
    "bigdata_info_json['RIF_V1']['size'] = '124 MB'\n",
    "bigdata_info_json['RIF_V1']['description'] = 'RIF_V1'\n",
    "bigdata_info_json['RIF_V1']['file_name'] = 'RIF_V1.csv'\n",
    "bigdata_info_json['RIF_V1']['project'] = 'A01_RIF'\n",
    "bigdata_info_json['RIF_V1']['project_data_order'] = 0\n",
    "bigdata_info_json['RIF_V1']['store_path'] = os.path.join(target_path, bigdata_info_json['RIF_V1']['project'], bigdata_info_json['RIF_V1']['file_name'])\n",
    "bigdata_info_json['RIF_V1']['compressed'] = False\n",
    "bigdata_info_json['RIF_V1']['format'] = 'csv'\n",
    "\n",
    "## RIF_V2\n",
    "bigdata_info_json['RIF_V2'] = {}\n",
    "bigdata_info_json['RIF_V2']['link'] = 'https://drive.google.com/file/d/1jfKjuRhHUMzoZZo170C2SenTpHYOpAzb/view?usp=drive_link'\n",
    "bigdata_info_json['RIF_V2']['size'] = '1.2 GB'\n",
    "bigdata_info_json['RIF_V2']['description'] = 'RIF_V2'\n",
    "bigdata_info_json['RIF_V2']['file_name'] = 'RIF_V2.csv'\n",
    "bigdata_info_json['RIF_V2']['project'] = 'A01_RIF'\n",
    "bigdata_info_json['RIF_V2']['project_data_order'] = 1\n",
    "bigdata_info_json['RIF_V2']['store_path'] = os.path.join(target_path, bigdata_info_json['RIF_V2']['project'], bigdata_info_json['RIF_V2']['file_name'])\n",
    "bigdata_info_json['RIF_V1']['compressed'] = False\n",
    "bigdata_info_json['RIF_V2']['format'] = 'csv'\n",
    "\n",
    "## RIF_V3\n",
    "bigdata_info_json['RIF_V3'] = {}\n",
    "bigdata_info_json['RIF_V3']['link'] = 'https://drive.google.com/file/d/1dbBLaYvhKXuH0-4fdShC_WQxNKdupbBu/view?usp=drive_link'\n",
    "bigdata_info_json['RIF_V3']['size'] = '1.2 GB'\n",
    "bigdata_info_json['RIF_V3']['description'] = 'RIF_V3'\n",
    "bigdata_info_json['RIF_V3']['file_name'] = 'RIF_V3.csv'\n",
    "bigdata_info_json['RIF_V3']['project'] = 'A01_RIF'\n",
    "bigdata_info_json['RIF_V3']['project_data_order'] = 2\n",
    "bigdata_info_json['RIF_V3']['store_path'] = os.path.join(target_path, bigdata_info_json['RIF_V3']['project'], bigdata_info_json['RIF_V3']['file_name'])\n",
    "bigdata_info_json['RIF_V3']['compressed'] = False\n",
    "bigdata_info_json['RIF_V3']['format'] = 'csv'\n",
    "\n",
    "#######################################\n",
    "# save json file \n",
    "import json\n",
    "with open(os.path.join(target_path, 'bigdata_info.json'), 'w') as f:\n",
    "    json.dump(bigdata_info_json, f, indent=4)"
   ]
  },
  {
   "cell_type": "code",
   "execution_count": 3,
   "metadata": {},
   "outputs": [
    {
     "name": "stdout",
     "output_type": "stream",
     "text": [
      "The file exists\n"
     ]
    }
   ],
   "source": [
    "# download example \n",
    "\n",
    "tmp = 'RIF_V1'\n",
    "file_id = bigdata_info_json[tmp]['link'].split('/')[-2]\n",
    "\n",
    "# download data \n",
    "import gdown\n",
    "output = bigdata_info_json[tmp]['store_path']\n",
    "\n",
    "if not os.path.exists(output):\n",
    "    gdown.download(f'https://drive.google.com/uc?id={file_id}', output, quiet=False)\n",
    "\n",
    "    # check the file exists\n",
    "    print(f\"Check the file exists: {os.path.exists(output)}\")\n",
    "    \n",
    "else:\n",
    "    print(\"The file exists\")"
   ]
  },
  {
   "cell_type": "code",
   "execution_count": null,
   "metadata": {},
   "outputs": [],
   "source": [
    "data_info = {}\n",
    "# save data_info\n",
    "## Academic/A01_RIF/data\n",
    "with open('Academic/A01_RIF/data/data_info.json', 'r') as f:\n",
    "    data_info = json.load(f)"
   ]
  }
 ],
 "metadata": {
  "kernelspec": {
   "display_name": "base",
   "language": "python",
   "name": "python3"
  },
  "language_info": {
   "codemirror_mode": {
    "name": "ipython",
    "version": 3
   },
   "file_extension": ".py",
   "mimetype": "text/x-python",
   "name": "python",
   "nbconvert_exporter": "python",
   "pygments_lexer": "ipython3",
   "version": "3.11.4"
  }
 },
 "nbformat": 4,
 "nbformat_minor": 2
}
